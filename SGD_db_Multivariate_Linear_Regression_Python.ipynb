{
  "nbformat": 4,
  "nbformat_minor": 0,
  "metadata": {
    "colab": {
      "name": "SGD_db_Multivariate_Linear_Regression_Python.ipynb",
      "provenance": [],
      "collapsed_sections": []
    },
    "kernelspec": {
      "name": "python3",
      "display_name": "Python 3"
    },
    "accelerator": "GPU"
  },
  "cells": [
    {
      "cell_type": "markdown",
      "metadata": {
        "id": "ON4WbEBvk9Z9"
      },
      "source": [
        "# Multivariate Linear Regression\n",
        "## Predicting Healthcare COVID Insurance Price from age, race, ethnicity, gender, latitude, longitude"
      ]
    },
    {
      "cell_type": "markdown",
      "metadata": {
        "id": "RKxoZ5lknWll"
      },
      "source": [
        "### Import Libraries"
      ]
    },
    {
      "cell_type": "code",
      "metadata": {
        "id": "Lq6qDjhHnbak"
      },
      "source": [
        "%matplotlib inline\n",
        "from mpl_toolkits.mplot3d import Axes3D\n",
        "import numpy as np\n",
        "import matplotlib.pyplot as plt\n",
        "from sklearn.preprocessing import normalize"
      ],
      "execution_count": 1,
      "outputs": []
    },
    {
      "cell_type": "markdown",
      "metadata": {
        "id": "W5b_-H-zn3_O"
      },
      "source": [
        "### Read Data"
      ]
    },
    {
      "cell_type": "code",
      "metadata": {
        "colab": {
          "base_uri": "https://localhost:8080/",
          "height": 204
        },
        "id": "2y7aFAEzmcRX",
        "outputId": "21d09e32-aac7-4797-ca64-cc958ee8d751"
      },
      "source": [
        "import numpy as np\n",
        "import matplotlib.pyplot as plt\n",
        "import pandas as pd\n",
        "import seaborn as sns\n",
        "\n",
        "%matplotlib inline\n",
        "\n",
        "#importing dataset using panda\n",
        "#dataset\n",
        "data = pd.read_csv('https://storage.googleapis.com/dataprep-staging-b4c6b8ff-9afc-4b23-a0d8-d480526baaa4/yz1268%40nyu.edu/jobrun/Untitled%20recipe%20%E2%80%93%204.csv/2021-08-16_23-54-42_00000000')\n",
        "#to see what my dataset is comprised of\n",
        "data.head()\n",
        "#healthcare_coverage,age,race, ethnicity, gender, latitude, longitude,healthcare expense.\n",
        "#the first column is y, the rest are all x1, x2,...xn."
      ],
      "execution_count": 2,
      "outputs": [
        {
          "output_type": "execute_result",
          "data": {
            "text/html": [
              "<div>\n",
              "<style scoped>\n",
              "    .dataframe tbody tr th:only-of-type {\n",
              "        vertical-align: middle;\n",
              "    }\n",
              "\n",
              "    .dataframe tbody tr th {\n",
              "        vertical-align: top;\n",
              "    }\n",
              "\n",
              "    .dataframe thead th {\n",
              "        text-align: right;\n",
              "    }\n",
              "</style>\n",
              "<table border=\"1\" class=\"dataframe\">\n",
              "  <thead>\n",
              "    <tr style=\"text-align: right;\">\n",
              "      <th></th>\n",
              "      <th>1499.08</th>\n",
              "      <th>5</th>\n",
              "      <th>0</th>\n",
              "      <th>0.1</th>\n",
              "      <th>0.2</th>\n",
              "      <th>42.15196147</th>\n",
              "      <th>-72.5989594</th>\n",
              "      <th>8446.49</th>\n",
              "    </tr>\n",
              "  </thead>\n",
              "  <tbody>\n",
              "    <tr>\n",
              "      <th>0</th>\n",
              "      <td>1845.72</td>\n",
              "      <td>29</td>\n",
              "      <td>0</td>\n",
              "      <td>0</td>\n",
              "      <td>1</td>\n",
              "      <td>42.177370</td>\n",
              "      <td>-71.281353</td>\n",
              "      <td>89893.40</td>\n",
              "    </tr>\n",
              "    <tr>\n",
              "      <th>1</th>\n",
              "      <td>3528.84</td>\n",
              "      <td>17</td>\n",
              "      <td>0</td>\n",
              "      <td>0</td>\n",
              "      <td>0</td>\n",
              "      <td>42.181642</td>\n",
              "      <td>-72.608842</td>\n",
              "      <td>577445.86</td>\n",
              "    </tr>\n",
              "    <tr>\n",
              "      <th>2</th>\n",
              "      <td>2705.64</td>\n",
              "      <td>24</td>\n",
              "      <td>0</td>\n",
              "      <td>0</td>\n",
              "      <td>1</td>\n",
              "      <td>42.075292</td>\n",
              "      <td>-70.757035</td>\n",
              "      <td>336701.72</td>\n",
              "    </tr>\n",
              "    <tr>\n",
              "      <th>3</th>\n",
              "      <td>3043.04</td>\n",
              "      <td>2</td>\n",
              "      <td>0</td>\n",
              "      <td>0</td>\n",
              "      <td>0</td>\n",
              "      <td>42.352434</td>\n",
              "      <td>-71.028610</td>\n",
              "      <td>484076.34</td>\n",
              "    </tr>\n",
              "    <tr>\n",
              "      <th>4</th>\n",
              "      <td>893.28</td>\n",
              "      <td>37</td>\n",
              "      <td>0</td>\n",
              "      <td>0</td>\n",
              "      <td>1</td>\n",
              "      <td>42.740220</td>\n",
              "      <td>-72.722648</td>\n",
              "      <td>22940.00</td>\n",
              "    </tr>\n",
              "  </tbody>\n",
              "</table>\n",
              "</div>"
            ],
            "text/plain": [
              "   1499.08   5  0  0.1  0.2  42.15196147  -72.5989594    8446.49\n",
              "0  1845.72  29  0    0    1    42.177370   -71.281353   89893.40\n",
              "1  3528.84  17  0    0    0    42.181642   -72.608842  577445.86\n",
              "2  2705.64  24  0    0    1    42.075292   -70.757035  336701.72\n",
              "3  3043.04   2  0    0    0    42.352434   -71.028610  484076.34\n",
              "4   893.28  37  0    0    1    42.740220   -72.722648   22940.00"
            ]
          },
          "metadata": {
            "tags": []
          },
          "execution_count": 2
        }
      ]
    },
    {
      "cell_type": "code",
      "metadata": {
        "id": "Ip2EQ_PGoQJO",
        "colab": {
          "base_uri": "https://localhost:8080/"
        },
        "outputId": "4e1f87dd-4fa4-4a84-e623-7081f5e5025d"
      },
      "source": [
        "data.shape\n"
      ],
      "execution_count": 3,
      "outputs": [
        {
          "output_type": "execute_result",
          "data": {
            "text/plain": [
              "(12351, 8)"
            ]
          },
          "metadata": {
            "tags": []
          },
          "execution_count": 3
        }
      ]
    },
    {
      "cell_type": "code",
      "metadata": {
        "colab": {
          "base_uri": "https://localhost:8080/"
        },
        "id": "N0Ju4Pg3BX_q",
        "outputId": "6aafe253-1b42-42b7-cf1b-f293f0505571"
      },
      "source": [
        "print(type(data))\n",
        "#print(data.keys())\n",
        "data = data.to_numpy()\n",
        "print(type(data))"
      ],
      "execution_count": 4,
      "outputs": [
        {
          "output_type": "stream",
          "text": [
            "<class 'pandas.core.frame.DataFrame'>\n",
            "<class 'numpy.ndarray'>\n"
          ],
          "name": "stdout"
        }
      ]
    },
    {
      "cell_type": "code",
      "metadata": {
        "colab": {
          "base_uri": "https://localhost:8080/"
        },
        "id": "WHmV7yfL_PGR",
        "outputId": "702c7b09-0fc2-4ecd-b936-53bdc98cad26"
      },
      "source": [
        "print(data)"
      ],
      "execution_count": 5,
      "outputs": [
        {
          "output_type": "stream",
          "text": [
            "[[ 1.84572000e+03  2.90000000e+01  0.00000000e+00 ...  4.21773702e+01\n",
            "  -7.12813532e+01  8.98934000e+04]\n",
            " [ 3.52884000e+03  1.70000000e+01  0.00000000e+00 ...  4.21816423e+01\n",
            "  -7.26088422e+01  5.77445860e+05]\n",
            " [ 2.70564000e+03  2.40000000e+01  0.00000000e+00 ...  4.20752915e+01\n",
            "  -7.07570347e+01  3.36701720e+05]\n",
            " ...\n",
            " [ 2.60014100e+04  1.02000000e+02  0.00000000e+00 ...  4.23961856e+01\n",
            "  -7.12179277e+01  1.34793008e+06]\n",
            " [ 3.20069700e+04  8.00000000e+01  0.00000000e+00 ...  4.23667684e+01\n",
            "  -7.11967152e+01  1.58563129e+06]\n",
            " [ 7.90451350e+05  1.21000000e+02  0.00000000e+00 ...  4.17216614e+01\n",
            "  -7.05872141e+01  1.68923958e+06]]\n"
          ],
          "name": "stdout"
        }
      ]
    },
    {
      "cell_type": "code",
      "metadata": {
        "colab": {
          "base_uri": "https://localhost:8080/"
        },
        "id": "XHJv8viwAwk0",
        "outputId": "0ebaf85a-f0e8-4641-afa6-e8f79a3052e9"
      },
      "source": [
        "data.shape"
      ],
      "execution_count": 6,
      "outputs": [
        {
          "output_type": "execute_result",
          "data": {
            "text/plain": [
              "(12351, 8)"
            ]
          },
          "metadata": {
            "tags": []
          },
          "execution_count": 6
        }
      ]
    },
    {
      "cell_type": "markdown",
      "metadata": {
        "id": "ydBEcRFeiDtS"
      },
      "source": [
        "### Normalize Data"
      ]
    },
    {
      "cell_type": "code",
      "metadata": {
        "id": "y1BwuHufiHJ_"
      },
      "source": [
        "data = normalize(data, axis=0)\n",
        "#data = data.values.tolist()"
      ],
      "execution_count": 7,
      "outputs": []
    },
    {
      "cell_type": "code",
      "metadata": {
        "colab": {
          "base_uri": "https://localhost:8080/"
        },
        "id": "186dPWxPu2z0",
        "outputId": "9aa6e987-9a67-4bcb-9717-79517c1206e0"
      },
      "source": [
        "#print(data[0])\n",
        "print('the Y value in regression model',data[:,0:1])\n",
        "print('the X1 & X2 values in regression model',data[:,1:3])"
      ],
      "execution_count": 8,
      "outputs": [
        {
          "output_type": "stream",
          "text": [
            "the Y value in regression model [[0.00036224]\n",
            " [0.00069257]\n",
            " [0.00053101]\n",
            " ...\n",
            " [0.005103  ]\n",
            " [0.00628165]\n",
            " [0.15513295]]\n",
            "the X1 & X2 values in regression model [[0.0046234  0.        ]\n",
            " [0.00271027 0.        ]\n",
            " [0.00382626 0.        ]\n",
            " ...\n",
            " [0.0162616  0.        ]\n",
            " [0.0127542  0.        ]\n",
            " [0.01929073 0.        ]]\n"
          ],
          "name": "stdout"
        }
      ]
    },
    {
      "cell_type": "markdown",
      "metadata": {
        "id": "8rMv-L53odN5"
      },
      "source": [
        "### Seperate Data into X and Y"
      ]
    },
    {
      "cell_type": "code",
      "metadata": {
        "id": "uop_AFQSolHl"
      },
      "source": [
        "X = data[:, 1:6]\n",
        "#X = data[:, 1:7] The last column is the medical expense, it is not used in the first train.\n",
        "Y = data[:, 0:1]\n",
        "#https://www.earthdatascience.org/courses/intro-to-earth-data-science/scientific-data-structures-python/pandas-dataframes/indexing-filtering-data-pandas-dataframes/"
      ],
      "execution_count": 9,
      "outputs": []
    },
    {
      "cell_type": "code",
      "metadata": {
        "colab": {
          "base_uri": "https://localhost:8080/"
        },
        "id": "oAY6-vomtQqX",
        "outputId": "5f3bae8c-6ca4-4f41-8eb7-a14bb18bde3f"
      },
      "source": [
        "#X[:, 6]\n",
        "data[:, ]"
      ],
      "execution_count": 10,
      "outputs": [
        {
          "output_type": "execute_result",
          "data": {
            "text/plain": [
              "array([[ 0.00036224,  0.0046234 ,  0.        , ...,  0.00897818,\n",
              "        -0.00898765,  0.00081189],\n",
              "       [ 0.00069257,  0.00271027,  0.        , ...,  0.00897909,\n",
              "        -0.00915503,  0.00521534],\n",
              "       [ 0.00053101,  0.00382626,  0.        , ...,  0.00895645,\n",
              "        -0.00892154,  0.003041  ],\n",
              "       ...,\n",
              "       [ 0.005103  ,  0.0162616 ,  0.        , ...,  0.00902476,\n",
              "        -0.00897965,  0.01217416],\n",
              "       [ 0.00628165,  0.0127542 ,  0.        , ...,  0.0090185 ,\n",
              "        -0.00897698,  0.01432102],\n",
              "       [ 0.15513295,  0.01929073,  0.        , ...,  0.00888117,\n",
              "        -0.00890013,  0.01525678]])"
            ]
          },
          "metadata": {
            "tags": []
          },
          "execution_count": 10
        }
      ]
    },
    {
      "cell_type": "code",
      "metadata": {
        "colab": {
          "base_uri": "https://localhost:8080/"
        },
        "id": "mI-AHQ84o7_o",
        "outputId": "7f420d5a-6138-4e4d-9dce-684864caf28b"
      },
      "source": [
        "X.size"
      ],
      "execution_count": 11,
      "outputs": [
        {
          "output_type": "execute_result",
          "data": {
            "text/plain": [
              "61755"
            ]
          },
          "metadata": {
            "tags": []
          },
          "execution_count": 11
        }
      ]
    },
    {
      "cell_type": "code",
      "metadata": {
        "colab": {
          "base_uri": "https://localhost:8080/"
        },
        "id": "Zszwk6QIx-Uv",
        "outputId": "38b37db2-b7c3-4ef2-a61b-2e0448b92a0a"
      },
      "source": [
        "print(X)"
      ],
      "execution_count": 12,
      "outputs": [
        {
          "output_type": "stream",
          "text": [
            "[[0.0046234  0.         0.         0.01264608 0.00897818]\n",
            " [0.00271027 0.         0.         0.         0.00897909]\n",
            " [0.00382626 0.         0.         0.01264608 0.00895645]\n",
            " ...\n",
            " [0.0162616  0.         0.         0.01264608 0.00902476]\n",
            " [0.0127542  0.         0.         0.01264608 0.0090185 ]\n",
            " [0.01929073 0.         0.         0.         0.00888117]]\n"
          ],
          "name": "stdout"
        }
      ]
    },
    {
      "cell_type": "markdown",
      "metadata": {
        "id": "wPSTKDAXpLAN"
      },
      "source": [
        "### Visualize the Data"
      ]
    },
    {
      "cell_type": "code",
      "metadata": {
        "id": "eqSVKtKBWv9-",
        "colab": {
          "base_uri": "https://localhost:8080/",
          "height": 248
        },
        "outputId": "b64b377d-739b-4b7d-eb04-a371bb7d573d"
      },
      "source": [
        "# Fixing random state for reproducibility\n",
        "np.random.seed(19680801)\n",
        "\n",
        "fig = plt.figure()\n",
        "ax = fig.add_subplot(111, projection='3d')\n",
        "\n",
        "xs = X[:, 0]\n",
        "ys = X[:, 1]\n",
        "zs = Y\n",
        "ax.scatter(xs, ys, zs)\n",
        "\n",
        "ax.set_xlabel('size')\n",
        "ax.set_ylabel('bedroom')\n",
        "ax.set_zlabel('price')\n",
        "\n",
        "plt.show()"
      ],
      "execution_count": 13,
      "outputs": [
        {
          "output_type": "display_data",
          "data": {
            "image/png": "[encoded data removed]",
            "text/plain": [
              "<Figure size 432x288 with 1 Axes>"
            ]
          },
          "metadata": {
            "tags": [],
            "needs_background": "light"
          }
        }
      ]
    },
    {
      "cell_type": "markdown",
      "metadata": {
        "id": "Yrjucdifq_mt"
      },
      "source": [
        "### Hyperparameters"
      ]
    },
    {
      "cell_type": "code",
      "metadata": {
        "id": "OwVfkk3RrC_I"
      },
      "source": [
        "learning_rate = 0.09\n",
        "max_iteration = 500"
      ],
      "execution_count": 14,
      "outputs": []
    },
    {
      "cell_type": "code",
      "metadata": {
        "id": "RSXPA9L25UGl"
      },
      "source": [
        "s_learning_rate = 0.06\n",
        "s_max_iteration = 500"
      ],
      "execution_count": 15,
      "outputs": []
    },
    {
      "cell_type": "code",
      "metadata": {
        "id": "IeY-_RqF5V5v"
      },
      "source": [
        "\n",
        "mb_learning_rate = 0.09\n",
        "mb_max_iteration = 500\n",
        "batch_size = 16"
      ],
      "execution_count": 16,
      "outputs": []
    },
    {
      "cell_type": "markdown",
      "metadata": {
        "id": "EzXaG70OrZtn"
      },
      "source": [
        "### Parameters"
      ]
    },
    {
      "cell_type": "code",
      "metadata": {
        "id": "2INJM9AIrcBu"
      },
      "source": [
        "theta = np.zeros((X.shape[1]+1, 1))\n",
        "#theta = np.zeros(data.shape[1])\n",
        "s_theta = np.zeros((X.shape[1]+1, 1))\n",
        "mb_theta = np.zeros((X.shape[1]+1, 1))"
      ],
      "execution_count": 17,
      "outputs": []
    },
    {
      "cell_type": "code",
      "metadata": {
        "colab": {
          "base_uri": "https://localhost:8080/"
        },
        "id": "MsZHYL52l1UK",
        "outputId": "36035281-c164-4a2b-d54e-777a620d9f6a"
      },
      "source": [
        "#np.zeros(data.shape[1])\n",
        "X.shape[1]"
      ],
      "execution_count": 18,
      "outputs": [
        {
          "output_type": "execute_result",
          "data": {
            "text/plain": [
              "5"
            ]
          },
          "metadata": {
            "tags": []
          },
          "execution_count": 18
        }
      ]
    },
    {
      "cell_type": "code",
      "metadata": {
        "colab": {
          "base_uri": "https://localhost:8080/"
        },
        "id": "I8qVGCVpiEjP",
        "outputId": "e5e9602d-d56c-4835-ccda-004f0b06616e"
      },
      "source": [
        "theta.size"
      ],
      "execution_count": 19,
      "outputs": [
        {
          "output_type": "execute_result",
          "data": {
            "text/plain": [
              "6"
            ]
          },
          "metadata": {
            "tags": []
          },
          "execution_count": 19
        }
      ]
    },
    {
      "cell_type": "code",
      "metadata": {
        "colab": {
          "base_uri": "https://localhost:8080/"
        },
        "id": "b6U7xvjahnXg",
        "outputId": "6613470c-1738-4b71-98a4-45e191d0ad42"
      },
      "source": [
        "data.shape[0]"
      ],
      "execution_count": 20,
      "outputs": [
        {
          "output_type": "execute_result",
          "data": {
            "text/plain": [
              "12351"
            ]
          },
          "metadata": {
            "tags": []
          },
          "execution_count": 20
        }
      ]
    },
    {
      "cell_type": "code",
      "metadata": {
        "colab": {
          "base_uri": "https://localhost:8080/"
        },
        "id": "24hMQ0i9iMt3",
        "outputId": "31c254c4-8dd4-4d52-f229-18c67c3182b9"
      },
      "source": [
        "tempX = np.ones((X.shape[0], X.shape[1] + 1))\n",
        "print(tempX)"
      ],
      "execution_count": 21,
      "outputs": [
        {
          "output_type": "stream",
          "text": [
            "[[1. 1. 1. 1. 1. 1.]\n",
            " [1. 1. 1. 1. 1. 1.]\n",
            " [1. 1. 1. 1. 1. 1.]\n",
            " ...\n",
            " [1. 1. 1. 1. 1. 1.]\n",
            " [1. 1. 1. 1. 1. 1.]\n",
            " [1. 1. 1. 1. 1. 1.]]\n"
          ],
          "name": "stdout"
        }
      ]
    },
    {
      "cell_type": "code",
      "metadata": {
        "colab": {
          "base_uri": "https://localhost:8080/"
        },
        "id": "lo0FH10_iOY8",
        "outputId": "dfc2657c-b613-4505-a591-e5edcfe04999"
      },
      "source": [
        "tempX[:,1:].size"
      ],
      "execution_count": 22,
      "outputs": [
        {
          "output_type": "execute_result",
          "data": {
            "text/plain": [
              "61755"
            ]
          },
          "metadata": {
            "tags": []
          },
          "execution_count": 22
        }
      ]
    },
    {
      "cell_type": "code",
      "metadata": {
        "colab": {
          "base_uri": "https://localhost:8080/"
        },
        "id": "0ybLjmWAi0Wv",
        "outputId": "00166c4b-b36f-4329-ab04-1861b0ce131d"
      },
      "source": [
        "tempX.size"
      ],
      "execution_count": 23,
      "outputs": [
        {
          "output_type": "execute_result",
          "data": {
            "text/plain": [
              "74106"
            ]
          },
          "metadata": {
            "tags": []
          },
          "execution_count": 23
        }
      ]
    },
    {
      "cell_type": "code",
      "metadata": {
        "colab": {
          "base_uri": "https://localhost:8080/"
        },
        "id": "roBskY-Ziu6U",
        "outputId": "08246581-96f0-4cdb-da50-4572969cb32f"
      },
      "source": [
        "np.matmul(tempX, theta)"
      ],
      "execution_count": 24,
      "outputs": [
        {
          "output_type": "execute_result",
          "data": {
            "text/plain": [
              "array([[0.],\n",
              "       [0.],\n",
              "       [0.],\n",
              "       ...,\n",
              "       [0.],\n",
              "       [0.],\n",
              "       [0.]])"
            ]
          },
          "metadata": {
            "tags": []
          },
          "execution_count": 24
        }
      ]
    },
    {
      "cell_type": "markdown",
      "metadata": {
        "id": "FPt2eKjBr1Lx"
      },
      "source": [
        "### Hypothesis"
      ]
    },
    {
      "cell_type": "code",
      "metadata": {
        "id": "enVE4tHWsBBF"
      },
      "source": [
        "def h (theta, X) :\n",
        "  tempX = np.ones((X.shape[0], X.shape[1] + 1))\n",
        "  tempX[:,1:] = X\n",
        "  return np.matmul(tempX, theta)"
      ],
      "execution_count": 25,
      "outputs": []
    },
    {
      "cell_type": "markdown",
      "metadata": {
        "id": "IA9I6vaXs7nb"
      },
      "source": [
        "### Loss Function"
      ]
    },
    {
      "cell_type": "code",
      "metadata": {
        "id": "3KOQVUjBs-Ub"
      },
      "source": [
        "def loss (theta, X, Y) :\n",
        "  return np.average(np.square(Y - h(theta, X))) / 2"
      ],
      "execution_count": 26,
      "outputs": []
    },
    {
      "cell_type": "markdown",
      "metadata": {
        "id": "7TE79NG-tyLG"
      },
      "source": [
        "### Calculate Gradients"
      ]
    },
    {
      "cell_type": "code",
      "metadata": {
        "id": "yy9yxye4t0BJ"
      },
      "source": [
        "def gradient (theta, X, Y) :\n",
        "  tempX = np.ones((X.shape[0], X.shape[1] + 1))\n",
        "  tempX[:,1:] = X\n",
        "  d_theta = - np.average((Y - h(theta, X)) * tempX, axis= 0)\n",
        "  d_theta = d_theta.reshape((d_theta.shape[0], 1))\n",
        "  return d_theta"
      ],
      "execution_count": 27,
      "outputs": []
    },
    {
      "cell_type": "markdown",
      "metadata": {
        "id": "jVo5TbKyu9KL"
      },
      "source": [
        "### Batch Gradient Descent"
      ]
    },
    {
      "cell_type": "code",
      "metadata": {
        "id": "fprg4-tcu-4v"
      },
      "source": [
        "def gradient_descent (theta, X, Y, learning_rate, max_iteration, gap) :\n",
        "  cost = np.zeros(max_iteration)\n",
        "  for i in range(max_iteration) :\n",
        "    d_theta = gradient (theta, X, Y)\n",
        "    theta = theta - learning_rate * d_theta\n",
        "    cost[i] = loss(theta, X, Y)\n",
        "    if i % gap == 0 :\n",
        "      print ('iteration : ', i, ' loss : ', loss(theta, X, Y)) \n",
        "  return theta, cost"
      ],
      "execution_count": 28,
      "outputs": []
    },
    {
      "cell_type": "markdown",
      "metadata": {
        "id": "Si5f2m-9-krz"
      },
      "source": [
        "### Mini-Batch Gradient Descent"
      ]
    },
    {
      "cell_type": "code",
      "metadata": {
        "id": "kCGUklWXyov-"
      },
      "source": [
        "def minibatch_gradient_descent (theta, X, Y, learning_rate, max_iteration, batch_size, gap) :\n",
        "  cost = np.zeros(max_iteration)\n",
        "  for i in range(max_iteration) :\n",
        "    for j in range(0, X.shape[0], batch_size):\n",
        "      d_theta = gradient (theta, X[j:j+batch_size,:], Y[j:j+batch_size,:])\n",
        "      theta = theta - learning_rate * d_theta\n",
        "    \n",
        "    cost[i] = loss(theta, X, Y)\n",
        "    if i % gap == 0 :\n",
        "      print ('iteration : ', i, ' loss : ', loss(theta, X, Y)) \n",
        "  return theta, cost"
      ],
      "execution_count": 29,
      "outputs": []
    },
    {
      "cell_type": "markdown",
      "metadata": {
        "id": "epWfjT9R-sk3"
      },
      "source": [
        "### Stochastic Gradient Descent"
      ]
    },
    {
      "cell_type": "code",
      "metadata": {
        "id": "cWDNv4BkvpvQ"
      },
      "source": [
        "def stochastic_gradient_descent (theta, X, Y, learning_rate, max_iteration, gap) :\n",
        "  cost = np.zeros(max_iteration)\n",
        "  for i in range(max_iteration) :\n",
        "    for j in range(X.shape[0]):\n",
        "      d_theta = gradient (theta, X[j,:].reshape(1, X.shape[1]), Y[j,:].reshape(1, 1))\n",
        "      theta = theta - learning_rate * d_theta\n",
        "    \n",
        "    cost[i] = loss(theta, X, Y)\n",
        "    if i % gap == 0 :\n",
        "      print ('iteration : ', i, ' loss : ', loss(theta, X, Y)) \n",
        "  return theta, cost"
      ],
      "execution_count": 30,
      "outputs": []
    },
    {
      "cell_type": "markdown",
      "metadata": {
        "id": "uMIZFxUhwQZO"
      },
      "source": [
        "### Train Model"
      ]
    },
    {
      "cell_type": "code",
      "metadata": {
        "id": "-0okDGSCwUC7",
        "colab": {
          "base_uri": "https://localhost:8080/"
        },
        "outputId": "31ab4134-e443-4e5e-8a99-d4ddeedf61a3"
      },
      "source": [
        "theta, cost = gradient_descent (theta, X, Y, learning_rate, max_iteration, 100)"
      ],
      "execution_count": 31,
      "outputs": [
        {
          "output_type": "stream",
          "text": [
            "iteration :  0  loss :  3.9910419500240205e-05\n",
            "iteration :  100  loss :  3.7154880249098625e-05\n",
            "iteration :  200  loss :  3.7154849977961215e-05\n",
            "iteration :  300  loss :  3.7154819751311256e-05\n",
            "iteration :  400  loss :  3.715478955147231e-05\n"
          ],
          "name": "stdout"
        }
      ]
    },
    {
      "cell_type": "code",
      "metadata": {
        "id": "YBJreRDKwtvI",
        "colab": {
          "base_uri": "https://localhost:8080/"
        },
        "outputId": "ab519634-b3fd-4169-e25d-d17c55ea7af6"
      },
      "source": [
        "s_theta, s_cost = stochastic_gradient_descent (s_theta, X, Y, s_learning_rate, s_max_iteration, 100)"
      ],
      "execution_count": 32,
      "outputs": [
        {
          "output_type": "stream",
          "text": [
            "iteration :  0  loss :  7.658428343901709e-05\n",
            "iteration :  100  loss :  7.62977252802232e-05\n",
            "iteration :  200  loss :  7.625446049824406e-05\n",
            "iteration :  300  loss :  7.624108980549722e-05\n",
            "iteration :  400  loss :  7.623774827636606e-05\n"
          ],
          "name": "stdout"
        }
      ]
    },
    {
      "cell_type": "code",
      "metadata": {
        "id": "viSuvODWza-1",
        "colab": {
          "base_uri": "https://localhost:8080/"
        },
        "outputId": "c372e206-3a48-4bec-f4c7-e9ee8e845bde"
      },
      "source": [
        "mb_theta, mb_cost = minibatch_gradient_descent (mb_theta, X, Y, mb_learning_rate, mb_max_iteration, batch_size, 100)"
      ],
      "execution_count": 33,
      "outputs": [
        {
          "output_type": "stream",
          "text": [
            "iteration :  0  loss :  3.72209894274267e-05\n",
            "iteration :  100  loss :  3.720542925941344e-05\n",
            "iteration :  200  loss :  3.719744174813267e-05\n",
            "iteration :  300  loss :  3.719314713074294e-05\n",
            "iteration :  400  loss :  3.719073782829022e-05\n"
          ],
          "name": "stdout"
        }
      ]
    },
    {
      "cell_type": "markdown",
      "metadata": {
        "id": "MFp2MUlexVd5"
      },
      "source": [
        "### Optimal values of Parameters using Trained Model"
      ]
    },
    {
      "cell_type": "code",
      "metadata": {
        "id": "tcMQWkuvwYu7",
        "colab": {
          "base_uri": "https://localhost:8080/"
        },
        "outputId": "b32e2e5b-a0bf-4851-f81d-c663f05aff1a"
      },
      "source": [
        "theta"
      ],
      "execution_count": 34,
      "outputs": [
        {
          "output_type": "execute_result",
          "data": {
            "text/plain": [
              "array([[ 2.57942984e-03],\n",
              "       [ 4.73064061e-05],\n",
              "       [ 4.21061601e-05],\n",
              "       [-2.72333815e-05],\n",
              "       [-4.46300075e-05],\n",
              "       [ 2.30123745e-05]])"
            ]
          },
          "metadata": {
            "tags": []
          },
          "execution_count": 34
        }
      ]
    },
    {
      "cell_type": "code",
      "metadata": {
        "id": "Orub1Wgdx0yc",
        "colab": {
          "base_uri": "https://localhost:8080/"
        },
        "outputId": "fa127ab6-6163-4c53-d748-0a5ab71d4f25"
      },
      "source": [
        "s_theta"
      ],
      "execution_count": 35,
      "outputs": [
        {
          "output_type": "execute_result",
          "data": {
            "text/plain": [
              "array([[ 0.01148305],\n",
              "       [ 0.01961533],\n",
              "       [ 0.01219439],\n",
              "       [-0.008928  ],\n",
              "       [-0.03451713],\n",
              "       [-0.0005793 ]])"
            ]
          },
          "metadata": {
            "tags": []
          },
          "execution_count": 35
        }
      ]
    },
    {
      "cell_type": "code",
      "metadata": {
        "id": "TBrs3crW55Ka",
        "colab": {
          "base_uri": "https://localhost:8080/"
        },
        "outputId": "e26547d4-3aa8-4471-92dc-946a9054508d"
      },
      "source": [
        "mb_theta"
      ],
      "execution_count": 36,
      "outputs": [
        {
          "output_type": "execute_result",
          "data": {
            "text/plain": [
              "array([[ 2.99219170e-03],\n",
              "       [ 1.51226829e-02],\n",
              "       [ 1.00448381e-02],\n",
              "       [-9.29143395e-03],\n",
              "       [-2.51631346e-02],\n",
              "       [-9.19084176e-05]])"
            ]
          },
          "metadata": {
            "tags": []
          },
          "execution_count": 36
        }
      ]
    },
    {
      "cell_type": "markdown",
      "metadata": {
        "id": "Pi99RMws736c"
      },
      "source": [
        "### Cost vs Iteration Plots"
      ]
    },
    {
      "cell_type": "code",
      "metadata": {
        "id": "SvzRaqIQ78Pl",
        "colab": {
          "base_uri": "https://localhost:8080/",
          "height": 295
        },
        "outputId": "aea61aa3-c541-42af-d249-856f6c71d57e"
      },
      "source": [
        "#plot the cost\n",
        "fig, ax = plt.subplots()  \n",
        "ax.plot(np.arange(max_iteration), cost, 'r')  \n",
        "ax.plot(np.arange(max_iteration), s_cost, 'b')  \n",
        "ax.plot(np.arange(max_iteration), mb_cost, 'g')  \n",
        "ax.legend(loc='upper right', labels=['batch gradient descent', 'stochastic gradient descent', 'mini-batch gradient descent'])\n",
        "ax.set_xlabel('Iterations')  \n",
        "ax.set_ylabel('Cost')  \n",
        "ax.set_title('Error vs. Training Epoch')  \n",
        "\n",
        "plt.show()"
      ],
      "execution_count": 37,
      "outputs": [
        {
          "output_type": "display_data",
          "data": {
            "image/png": "[encoded data removed]",
            "text/plain": [
              "<Figure size 432x288 with 1 Axes>"
            ]
          },
          "metadata": {
            "tags": [],
            "needs_background": "light"
          }
        }
      ]
    },
    {
      "cell_type": "code",
      "metadata": {
        "id": "vxLme6Nz6BOd"
      },
      "source": [
        ""
      ],
      "execution_count": 37,
      "outputs": []
    }
  ]
}