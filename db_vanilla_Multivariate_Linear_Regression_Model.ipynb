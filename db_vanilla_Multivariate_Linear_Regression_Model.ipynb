{
  "nbformat": 4,
  "nbformat_minor": 0,
  "metadata": {
    "colab": {
      "name": "db_vanilla_Multivariate_Linear_Regression_Model.ipynb",
      "provenance": [],
      "collapsed_sections": []
    },
    "kernelspec": {
      "name": "python3",
      "display_name": "Python 3"
    },
    "accelerator": "GPU"
  },
  "cells": [
    {
      "cell_type": "markdown",
      "metadata": {
        "id": "ON4WbEBvk9Z9"
      },
      "source": [
        "# Multivariate Linear Regression\n",
        "## Predicting House Price from Size and Number of Bedrooms"
      ]
    },
    {
      "cell_type": "code",
      "metadata": {
        "colab": {
          "base_uri": "https://localhost:8080/"
        },
        "id": "-zxrsveDbaJv",
        "outputId": "88b14b23-b914-4c42-a74f-caad4890bc95"
      },
      "source": [
        "# evaluate logistic regression on the breast cancer dataset with an ordinal encoding\n",
        "from numpy import mean\n",
        "from numpy import std\n",
        "from pandas import read_csv\n",
        "from sklearn.model_selection import train_test_split\n",
        "from sklearn.linear_model import LogisticRegression\n",
        "from sklearn.preprocessing import LabelEncoder\n",
        "from sklearn.preprocessing import OrdinalEncoder\n",
        "from sklearn.metrics import accuracy_score\n",
        "from sklearn.linear_model import LinearRegression\n",
        "from sklearn.metrics import mean_squared_error\n",
        "# define the location of the dataset\n",
        "url = \"https://storage.googleapis.com/dataprep-staging-b4c6b8ff-9afc-4b23-a0d8-d480526baaa4/yz1268%40nyu.edu/jobrun/Untitled%20recipe%20%E2%80%93%204.csv/2021-08-16_23-54-42_00000000\"\n",
        "# load the dataset\n",
        "#the data imported from my google storage with this url link above has this format:\n",
        "#healthcare_coverage,age,race, ethnicity, gender, latitude, longitude,healthcare expense.\n",
        "#for example, in order to read the first column, we can do data[:,0:1]. In order to read the column from second column to the sixth column, we can do data[:,1:7],which also follows the array operation in python.\n",
        "dataset = read_csv(url, header=None)\n",
        "# retrieve the array of data\n",
        "data = dataset.values\n",
        "# separate into input and output columns\n",
        "X = data[:, 1:7]\n",
        "y = data[:, 0:1]\n",
        "print(X)\n",
        "# split the dataset into train and test sets\n",
        "X_train, X_test, y_train, y_test = train_test_split(X, y, test_size=0.01, random_state=1)\n",
        "\n",
        "from sklearn.linear_model import LinearRegression\n",
        "regressor = LinearRegression()\n",
        "regressor.fit(X_train, y_train)\n",
        "# Predicting the Test set results\n",
        "y_pred = regressor.predict(X_test)\n",
        "\n",
        "# define the model\n",
        "model = LinearRegression()\n",
        "# fit on the training set\n",
        "model.fit(X_train, y_train)\n",
        "# predict on test set\n",
        "yhat = model.predict(X_test)\n",
        "\n",
        "print('Coefficients: \\n', model.coef_)\n",
        "print(type(regressor.coef_))\n",
        "#these params are what we need and got from the trainnnig the model. Now we can use these parameters to create a formular for pricing the health insurance quota.\n",
        "# evaluate predictions\n",
        "#accuracy = accuracy_score(y_test, yhat)\n",
        "\n",
        "accuracy = mean_squared_error(y_test, yhat)\n",
        "#this name of accuracy is a little misleading, to be more specific, it is mean_sqaured_error.\n",
        "print('Accuracy: %.2f' % (accuracy))"
      ],
      "execution_count": 1,
      "outputs": [
        {
          "output_type": "stream",
          "text": [
            "[[  5.           0.           0.           0.          42.15196147\n",
            "  -72.5989594 ]\n",
            " [ 29.           0.           0.           1.          42.17737022\n",
            "  -71.28135316]\n",
            " [ 17.           0.           0.           0.          42.1816423\n",
            "  -72.60884223]\n",
            " ...\n",
            " [102.           0.           0.           1.          42.3961856\n",
            "  -71.21792771]\n",
            " [ 80.           0.           0.           1.          42.36676838\n",
            "  -71.19671525]\n",
            " [121.           0.           0.           0.          41.7216614\n",
            "  -70.58721406]]\n",
            "Coefficients: \n",
            " [[   25.12420284   441.07420163 -1324.43436569 -2022.75836133\n",
            "  -1023.24604254   -94.20163621]]\n",
            "<class 'numpy.ndarray'>\n",
            "Accuracy: 6392049946.46\n"
          ],
          "name": "stdout"
        }
      ]
    },
    {
      "cell_type": "code",
      "metadata": {
        "colab": {
          "base_uri": "https://localhost:8080/"
        },
        "id": "bFho2VeS22VK",
        "outputId": "e4e6c3de-48c4-40cd-a25e-3693f293308e"
      },
      "source": [
        "# evaluate logistic regression on the breast cancer dataset with an ordinal encoding\n",
        "from numpy import mean\n",
        "from numpy import std\n",
        "from pandas import read_csv\n",
        "from sklearn.model_selection import train_test_split\n",
        "from sklearn.linear_model import LogisticRegression\n",
        "from sklearn.linear_model import LinearRegression\n",
        "from sklearn.preprocessing import LabelEncoder\n",
        "from sklearn.preprocessing import OrdinalEncoder\n",
        "from sklearn.metrics import accuracy_score\n",
        "#from sklearn.ensemble import RandomForestClassifier, RandomForestRegressor, ExtraTreesRegressor, GradientBoostingRegressor\n",
        "from sklearn.metrics import mean_squared_error\n",
        "\n",
        "# define the location of the dataset\n",
        "url = \"https://storage.googleapis.com/dataprep-staging-b4c6b8ff-9afc-4b23-a0d8-d480526baaa4/yz1268%40nyu.edu/jobrun/Untitled%20recipe%20%E2%80%93%204.csv/2021-08-16_23-54-42_00000000\"\n",
        "# load the dataset\n",
        "dataset = read_csv(url, header=None)\n",
        "\n",
        "# retrieve the array of data\n",
        "data = dataset.values\n",
        "\n",
        "# separate into input and output columns\n",
        "#X = data[:, :-1].astype(str)\n",
        "#y = data[:, -1].astype(str)\n",
        "X = data[:, 1:7]\n",
        "y = data[:, 0:1]\n",
        "\n",
        "# split the dataset into train and test sets\n",
        "X_train, X_test, y_train, y_test = train_test_split(X, y, test_size=0.2, random_state=1)\n",
        "\n",
        "# ordinal encode input variables\n",
        "#ordinal_encoder = OrdinalEncoder()\n",
        "#ordinal_encoder.fit(X_train)\n",
        "#X_train = ordinal_encoder.transform(X_train)\n",
        "#X_test = ordinal_encoder.transform(X_test)\n",
        "# ordinal encode target variable\n",
        "\n",
        "#label_encoder = LabelEncoder()\n",
        "#label_encoder.fit(y_train)\n",
        "\n",
        "#y_train = label_encoder.transform(y_train)\n",
        "#y_test = label_encoder.transform(y_test)\n",
        "\n",
        "# define the model\n",
        "model = LinearRegression()\n",
        "\n",
        "# fit on the training set\n",
        "model.fit(X_train, y_train)\n",
        "\n",
        "# predict on test set\n",
        "yhat = model.predict(X_test)\n",
        "#yhat is defined as the predicted value y\n",
        "\n",
        "# evaluate predictions\n",
        "#accuracy = accuracy_score(y_test, yhat)\n",
        "\n",
        "#It's because accuracy_score is for classification tasks only. For regression you should use something different, for example:\n",
        "accuracy = mean_squared_error(y_test, yhat)\n",
        "print('Accuracy: %.2f' % (accuracy*100))"
      ],
      "execution_count": 2,
      "outputs": [
        {
          "output_type": "stream",
          "text": [
            "Accuracy: 156894731241.60\n"
          ],
          "name": "stdout"
        }
      ]
    }
  ]
}